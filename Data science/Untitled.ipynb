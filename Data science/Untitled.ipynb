{
 "cells": [
  {
   "cell_type": "code",
   "execution_count": null,
   "id": "e2de6bf3-75e7-401f-9241-194a9c89921a",
   "metadata": {},
   "outputs": [
    {
     "name": "stdout",
     "output_type": "stream",
     "text": [
      " * Serving Flask app '__main__'\n",
      " * Debug mode: off\n"
     ]
    },
    {
     "name": "stderr",
     "output_type": "stream",
     "text": [
      "WARNING: This is a development server. Do not use it in a production deployment. Use a production WSGI server instead.\n",
      " * Running on http://127.0.0.1:5000\n",
      "Press CTRL+C to quit\n"
     ]
    }
   ],
   "source": [
    "from flask import Flask\n",
    " \n",
    "app = Flask(__name__)\n",
    " \n",
    "@app.route('/')\n",
    "def hello_world():\n",
    "    return 'Hello, World!'\n",
    " \n",
    "if __name__ == '__main__':\n",
    "    app.run(debug=False)"
   ]
  },
  {
   "cell_type": "code",
   "execution_count": 2,
   "id": "157d80d7-1086-4a66-a219-0cfd7baa2af8",
   "metadata": {},
   "outputs": [
    {
     "name": "stderr",
     "output_type": "stream",
     "text": [
      "2023-11-19 12:14:21.650682: I tensorflow/tsl/cuda/cudart_stub.cc:28] Could not find cuda drivers on your machine, GPU will not be used.\n",
      "2023-11-19 12:14:21.704598: I tensorflow/tsl/cuda/cudart_stub.cc:28] Could not find cuda drivers on your machine, GPU will not be used.\n",
      "2023-11-19 12:14:21.705392: I tensorflow/core/platform/cpu_feature_guard.cc:182] This TensorFlow binary is optimized to use available CPU instructions in performance-critical operations.\n",
      "To enable the following instructions: AVX2 FMA, in other operations, rebuild TensorFlow with the appropriate compiler flags.\n",
      "2023-11-19 12:14:22.604086: W tensorflow/compiler/tf2tensorrt/utils/py_utils.cc:38] TF-TRT Warning: Could not find TensorRT\n"
     ]
    },
    {
     "name": "stdout",
     "output_type": "stream",
     "text": [
      "Downloading data from https://storage.googleapis.com/tensorflow/keras-applications/mobilenet_v2/mobilenet_v2_weights_tf_dim_ordering_tf_kernels_1.0_224.h5\n",
      "14536120/14536120 [==============================] - 3s 0us/step\n",
      "1/1 [==============================] - 1s 800ms/step\n"
     ]
    },
    {
     "ename": "AttributeError",
     "evalue": "'numpy.ndarray' object has no attribute 'numpy'",
     "output_type": "error",
     "traceback": [
      "\u001b[0;31m---------------------------------------------------------------------------\u001b[0m",
      "\u001b[0;31mAttributeError\u001b[0m                            Traceback (most recent call last)",
      "Cell \u001b[0;32mIn[2], line 22\u001b[0m\n\u001b[1;32m     19\u001b[0m predictions \u001b[38;5;241m=\u001b[39m model\u001b[38;5;241m.\u001b[39mpredict(image)\n\u001b[1;32m     21\u001b[0m \u001b[38;5;66;03m# Decode the predictions\u001b[39;00m\n\u001b[0;32m---> 22\u001b[0m decoded_predictions \u001b[38;5;241m=\u001b[39m tf\u001b[38;5;241m.\u001b[39mkeras\u001b[38;5;241m.\u001b[39mapplications\u001b[38;5;241m.\u001b[39mmobilenet_v2\u001b[38;5;241m.\u001b[39mdecode_predictions(\u001b[43mpredictions\u001b[49m\u001b[38;5;241;43m.\u001b[39;49m\u001b[43mnumpy\u001b[49m())\n\u001b[1;32m     24\u001b[0m \u001b[38;5;66;03m# Print the top predictions\u001b[39;00m\n\u001b[1;32m     25\u001b[0m \u001b[38;5;28;01mfor\u001b[39;00m i, (imagenet_id, label, score) \u001b[38;5;129;01min\u001b[39;00m \u001b[38;5;28menumerate\u001b[39m(decoded_predictions[\u001b[38;5;241m0\u001b[39m]):\n",
      "\u001b[0;31mAttributeError\u001b[0m: 'numpy.ndarray' object has no attribute 'numpy'"
     ]
    }
   ],
   "source": [
    "import cv2\n",
    "import numpy as np\n",
    "import tensorflow as tf\n",
    "\n",
    "# Load the pre-trained MobileNetV2 model\n",
    "model = tf.keras.applications.MobileNetV2(weights='imagenet')\n",
    "\n",
    "# Load an image for object detection\n",
    "image_path = 'background.jpg'\n",
    "image = cv2.imread(image_path)\n",
    "image = cv2.cvtColor(image, cv2.COLOR_BGR2RGB)  # Convert to RGB as MobileNetV2 expects this format\n",
    "image = cv2.resize(image, (224, 224))  # Resize the image to the input size expected by MobileNetV2\n",
    "image = tf.keras.applications.mobilenet_v2.preprocess_input(image)\n",
    "\n",
    "# Expand dimensions to create a batch-like effect for the model\n",
    "image = np.expand_dims(image, axis=0)\n",
    "\n",
    "# Make predictions\n",
    "predictions = model.predict(image)\n",
    "\n",
    "# Decode the predictions\n",
    "decoded_predictions = tf.keras.applications.mobilenet_v2.decode_predictions(predictions.numpy())\n",
    "\n",
    "# Print the top predictions\n",
    "for i, (imagenet_id, label, score) in enumerate(decoded_predictions[0]):\n",
    "    print(f\"{i + 1}: {label} ({score:.2f})\")\n",
    "\n",
    "# Display the image with bounding boxes around detected objects (optional)\n",
    "image_with_boxes = cv2.imread(image_path)\n",
    "for _, label, score in decoded_predictions[0]:\n",
    "    cv2.putText(image_with_boxes, f\"{label} ({score:.2f})\", (10, 30), cv2.FONT_HERSHEY_SIMPLEX, 1, (0, 255, 0), 2, cv2.LINE_AA)\n",
    "\n",
    "cv2.imshow(\"Object Detection\", cv2.cvtColor(image_with_boxes, cv2.COLOR_BGR2RGB))\n",
    "cv2.waitKey(0)\n",
    "cv2.destroyAllWindows()\n"
   ]
  },
  {
   "cell_type": "code",
   "execution_count": 1,
   "id": "6b9d4374-26ae-46ce-ad18-b9ff3f62750b",
   "metadata": {},
   "outputs": [
    {
     "ename": "ModuleNotFoundError",
     "evalue": "No module named 'tkinter'",
     "output_type": "error",
     "traceback": [
      "\u001b[0;31m---------------------------------------------------------------------------\u001b[0m",
      "\u001b[0;31mModuleNotFoundError\u001b[0m                       Traceback (most recent call last)",
      "Cell \u001b[0;32mIn[1], line 1\u001b[0m\n\u001b[0;32m----> 1\u001b[0m \u001b[38;5;28;01mimport\u001b[39;00m \u001b[38;5;21;01mtkinter\u001b[39;00m \u001b[38;5;28;01mas\u001b[39;00m \u001b[38;5;21;01mtk\u001b[39;00m\n\u001b[1;32m      3\u001b[0m \u001b[38;5;28;01mdef\u001b[39;00m \u001b[38;5;21mdisplay_name\u001b[39m():\n\u001b[1;32m      4\u001b[0m     name \u001b[38;5;241m=\u001b[39m name_entry\u001b[38;5;241m.\u001b[39mget()  \u001b[38;5;66;03m# Get the name from the entry widget\u001b[39;00m\n",
      "\u001b[0;31mModuleNotFoundError\u001b[0m: No module named 'tkinter'"
     ]
    }
   ],
   "source": [
    "import tkinter as tk\n",
    "\n",
    "def display_name():\n",
    "    name = name_entry.get()  # Get the name from the entry widget\n",
    "    canvas.create_text(x_pos, y_pos, text=name, font=(\"Arial\", 16), fill=\"blue\")\n",
    "\n",
    "# Create the main window\n",
    "root = tk.Tk()\n",
    "root.title(\"Name Display App\")\n",
    "\n",
    "# Set the window size\n",
    "root.geometry(\"400x200\")\n",
    "\n",
    "# Create an entry widget for entering the name\n",
    "name_entry = tk.Entry(root, width=30)\n",
    "name_entry.pack(pady=10)\n",
    "\n",
    "# Create a canvas for drawing\n",
    "canvas = tk.Canvas(root, width=400, height=100)\n",
    "canvas.pack()\n",
    "\n",
    "# Set the initial position for the text\n",
    "x_pos, y_pos = 200, 50\n",
    "\n",
    "# Create a button to display the name\n",
    "display_button = tk.Button(root, text=\"Display Name\", command=display_name)\n",
    "display_button.pack(pady=10)\n",
    "\n",
    "# Start the GUI event loop\n",
    "root.mainloop()\n"
   ]
  },
  {
   "cell_type": "code",
   "execution_count": 5,
   "id": "a047b814-5067-462d-ab61-9136541750d7",
   "metadata": {},
   "outputs": [
    {
     "name": "stdin",
     "output_type": "stream",
     "text": [
      "Enter integer:  50\n"
     ]
    },
    {
     "name": "stdout",
     "output_type": "stream",
     "text": [
      "50\n",
      "Started\n"
     ]
    }
   ],
   "source": [
    "# Python program to illustrate \n",
    "# function with main \n",
    "def getInteger():\n",
    "  result = int(input(\"Enter integer: \"))\n",
    "  return result\n",
    "\n",
    "# def Main(): \n",
    "# \tprint(\"Started\") \n",
    "\n",
    "# calling the getInteger function and \n",
    "# storing its returned value in the output variable \n",
    "output = getInteger()\t \n",
    "print(output) \n",
    "\n",
    "# now we are required to tell Python \n",
    "# for 'Main' function existence \n",
    "if __name__==\"__main__\":\n",
    "  Main()\n"
   ]
  },
  {
   "cell_type": "code",
   "execution_count": 12,
   "id": "1a195cf2-c548-49e0-9beb-ddf4db511da1",
   "metadata": {},
   "outputs": [
    {
     "ename": "NameError",
     "evalue": "name 'Count' is not defined",
     "output_type": "error",
     "traceback": [
      "\u001b[0;31m---------------------------------------------------------------------------\u001b[0m",
      "\u001b[0;31mNameError\u001b[0m                                 Traceback (most recent call last)",
      "Cell \u001b[0;32mIn[12], line 3\u001b[0m\n\u001b[1;32m      1\u001b[0m \u001b[38;5;28;01mimport\u001b[39;00m \u001b[38;5;21;01mkeyword\u001b[39;00m\n\u001b[1;32m      2\u001b[0m a\u001b[38;5;241m=\u001b[39mkeyword\u001b[38;5;241m.\u001b[39mkwlist\n\u001b[0;32m----> 3\u001b[0m \u001b[38;5;28mprint\u001b[39m(\u001b[43mCount\u001b[49m(a))\n",
      "\u001b[0;31mNameError\u001b[0m: name 'Count' is not defined"
     ]
    }
   ],
   "source": [
    "import keyword\n",
    "a=keyword.kwlist\n",
    "print(Count(a))"
   ]
  },
  {
   "cell_type": "code",
   "execution_count": 17,
   "id": "9658cb3f-b24f-45e5-9569-3b871ea4cc4c",
   "metadata": {},
   "outputs": [
    {
     "name": "stdout",
     "output_type": "stream",
     "text": [
      "3-4-44\n"
     ]
    }
   ],
   "source": [
    "# a=[1,2,3,45,5]\n",
    "print(3,4,44,sep=\"-\")"
   ]
  },
  {
   "cell_type": "code",
   "execution_count": 31,
   "id": "2cfea1a1-9b39-408c-8d61-d832a63cdff5",
   "metadata": {},
   "outputs": [
    {
     "name": "stdout",
     "output_type": "stream",
     "text": [
      "See whether at least one number is divisible by 5 in list 1=>\n",
      "True\n",
      "[4, 8, 12, 16, 20, 24, 28, 32, 36, 40]\n",
      "[False, False, False, False, True, False, False, False, False, True]\n"
     ]
    }
   ],
   "source": [
    "# This code explains how can we \n",
    "# use 'any' function on list \n",
    "list1 = []\n",
    "list2 = []\n",
    "\n",
    "# Index ranges from 1 to 10 to multiply\n",
    "for i in range(1,11):\n",
    "\ta=list1.append(4*i) \n",
    "# Index to access the list2 is from 0 to 9\n",
    "for i in range(0,10):\n",
    "\tb=list2.append(list1[i]%5==0)\n",
    "\n",
    "print('See whether at least one number is divisible by 5 in list 1=>')\n",
    "print(any(list2))\n",
    "print(list1)\n",
    "print(list2)"
   ]
  },
  {
   "cell_type": "code",
   "execution_count": 54,
   "id": "9e802b6e-757d-41d2-821f-91c1010af5f7",
   "metadata": {},
   "outputs": [
    {
     "name": "stdout",
     "output_type": "stream",
     "text": [
      "True\n"
     ]
    }
   ],
   "source": [
    "import operator\n",
    "\n",
    "a=(operator.le(15,15))\n",
    "print(a)"
   ]
  },
  {
   "cell_type": "code",
   "execution_count": 59,
   "id": "c6e411ed-02e4-46f9-b4ec-b430b223b8b2",
   "metadata": {},
   "outputs": [
    {
     "name": "stdout",
     "output_type": "stream",
     "text": [
      "9460240\n",
      "9451872\n",
      "9764384\n"
     ]
    }
   ],
   "source": [
    "print(id(b))\n",
    "print(id(a))\n",
    "print(id(1))\n"
   ]
  },
  {
   "cell_type": "code",
   "execution_count": 6,
   "id": "a2aa8a52-3052-4bff-aeb7-4b207b686268",
   "metadata": {},
   "outputs": [],
   "source": [
    "import turtle\n",
    "\n",
    "try:\n",
    "    # Set up the turtle\n",
    "    t = turtle.Turtle()\n",
    "    t.speed(0)  # Set speed to fastest\n",
    "\n",
    "    # Define a function to draw a spiral\n",
    "    def draw_spiral(t, radius, angle, shift):\n",
    "        t.penup()\n",
    "        t.goto(0, 0)\n",
    "        t.pendown()\n",
    "        for i in range(360 // angle):\n",
    "            t.forward(radius)\n",
    "            t.right(angle)\n",
    "            radius += shift\n",
    "\n",
    "    # Draw the central spiral\n",
    "    t.color('black')\n",
    "    draw_spiral(t, 5, 20, 1)\n",
    "\n",
    "    # Draw the outer spiral petals\n",
    "    t.penup()\n",
    "    t.goto(0, 0)\n",
    "    t.pendown()\n",
    "    t.color('black')\n",
    "\n",
    "    # Set animation speed\n",
    "    turtle.tracer(1)  # Adjust the value to control the animation speed\n",
    "\n",
    "    for i in range(6):\n",
    "        draw_spiral(t, 50, 60, 5)\n",
    "        t.penup()\n",
    "        t.left(60)\n",
    "        t.pendown()\n",
    "\n",
    "    # Keep the window open until closed\n",
    "    turtle.done()\n",
    "\n",
    "except turtle.Terminator:\n",
    "    print(\"Program terminated gracefully.\")\n"
   ]
  },
  {
   "cell_type": "code",
   "execution_count": 7,
   "id": "d9446b2d-703c-4957-a3f3-1549d6d75822",
   "metadata": {},
   "outputs": [
    {
     "ename": "Terminator",
     "evalue": "",
     "output_type": "error",
     "traceback": [
      "\u001b[0;31m---------------------------------------------------------------------------\u001b[0m",
      "\u001b[0;31mTerminator\u001b[0m                                Traceback (most recent call last)",
      "Cell \u001b[0;32mIn[7], line 5\u001b[0m\n\u001b[1;32m      3\u001b[0m \u001b[38;5;66;03m# Create a screen and a turtle\u001b[39;00m\n\u001b[1;32m      4\u001b[0m screen \u001b[38;5;241m=\u001b[39m turtle\u001b[38;5;241m.\u001b[39mScreen()\n\u001b[0;32m----> 5\u001b[0m happy \u001b[38;5;241m=\u001b[39m \u001b[43mturtle\u001b[49m\u001b[38;5;241;43m.\u001b[39;49m\u001b[43mTurtle\u001b[49m\u001b[43m(\u001b[49m\u001b[43m)\u001b[49m\n\u001b[1;32m      7\u001b[0m \u001b[38;5;66;03m# Set the background color (optional)\u001b[39;00m\n\u001b[1;32m      8\u001b[0m screen\u001b[38;5;241m.\u001b[39mbgcolor(\u001b[38;5;124m\"\u001b[39m\u001b[38;5;124mlightblue\u001b[39m\u001b[38;5;124m\"\u001b[39m)\n",
      "File \u001b[0;32m/usr/lib/python3.8/turtle.py:3814\u001b[0m, in \u001b[0;36mTurtle.__init__\u001b[0;34m(self, shape, undobuffersize, visible)\u001b[0m\n\u001b[1;32m   3812\u001b[0m \u001b[38;5;28;01mif\u001b[39;00m Turtle\u001b[38;5;241m.\u001b[39m_screen \u001b[38;5;129;01mis\u001b[39;00m \u001b[38;5;28;01mNone\u001b[39;00m:\n\u001b[1;32m   3813\u001b[0m     Turtle\u001b[38;5;241m.\u001b[39m_screen \u001b[38;5;241m=\u001b[39m Screen()\n\u001b[0;32m-> 3814\u001b[0m \u001b[43mRawTurtle\u001b[49m\u001b[38;5;241;43m.\u001b[39;49m\u001b[38;5;21;43m__init__\u001b[39;49m\u001b[43m(\u001b[49m\u001b[38;5;28;43mself\u001b[39;49m\u001b[43m,\u001b[49m\u001b[43m \u001b[49m\u001b[43mTurtle\u001b[49m\u001b[38;5;241;43m.\u001b[39;49m\u001b[43m_screen\u001b[49m\u001b[43m,\u001b[49m\n\u001b[1;32m   3815\u001b[0m \u001b[43m                   \u001b[49m\u001b[43mshape\u001b[49m\u001b[38;5;241;43m=\u001b[39;49m\u001b[43mshape\u001b[49m\u001b[43m,\u001b[49m\n\u001b[1;32m   3816\u001b[0m \u001b[43m                   \u001b[49m\u001b[43mundobuffersize\u001b[49m\u001b[38;5;241;43m=\u001b[39;49m\u001b[43mundobuffersize\u001b[49m\u001b[43m,\u001b[49m\n\u001b[1;32m   3817\u001b[0m \u001b[43m                   \u001b[49m\u001b[43mvisible\u001b[49m\u001b[38;5;241;43m=\u001b[39;49m\u001b[43mvisible\u001b[49m\u001b[43m)\u001b[49m\n",
      "File \u001b[0;32m/usr/lib/python3.8/turtle.py:2558\u001b[0m, in \u001b[0;36mRawTurtle.__init__\u001b[0;34m(self, canvas, shape, undobuffersize, visible)\u001b[0m\n\u001b[1;32m   2556\u001b[0m \u001b[38;5;28mself\u001b[39m\u001b[38;5;241m.\u001b[39m_undobuffersize \u001b[38;5;241m=\u001b[39m undobuffersize\n\u001b[1;32m   2557\u001b[0m \u001b[38;5;28mself\u001b[39m\u001b[38;5;241m.\u001b[39mundobuffer \u001b[38;5;241m=\u001b[39m Tbuffer(undobuffersize)\n\u001b[0;32m-> 2558\u001b[0m \u001b[38;5;28;43mself\u001b[39;49m\u001b[38;5;241;43m.\u001b[39;49m\u001b[43m_update\u001b[49m\u001b[43m(\u001b[49m\u001b[43m)\u001b[49m\n",
      "File \u001b[0;32m/usr/lib/python3.8/turtle.py:2661\u001b[0m, in \u001b[0;36mRawTurtle._update\u001b[0;34m(self)\u001b[0m\n\u001b[1;32m   2659\u001b[0m     \u001b[38;5;28;01mreturn\u001b[39;00m\n\u001b[1;32m   2660\u001b[0m \u001b[38;5;28;01melif\u001b[39;00m screen\u001b[38;5;241m.\u001b[39m_tracing \u001b[38;5;241m==\u001b[39m \u001b[38;5;241m1\u001b[39m:\n\u001b[0;32m-> 2661\u001b[0m     \u001b[38;5;28;43mself\u001b[39;49m\u001b[38;5;241;43m.\u001b[39;49m\u001b[43m_update_data\u001b[49m\u001b[43m(\u001b[49m\u001b[43m)\u001b[49m\n\u001b[1;32m   2662\u001b[0m     \u001b[38;5;28mself\u001b[39m\u001b[38;5;241m.\u001b[39m_drawturtle()\n\u001b[1;32m   2663\u001b[0m     screen\u001b[38;5;241m.\u001b[39m_update()                  \u001b[38;5;66;03m# TurtleScreenBase\u001b[39;00m\n",
      "File \u001b[0;32m/usr/lib/python3.8/turtle.py:2647\u001b[0m, in \u001b[0;36mRawTurtle._update_data\u001b[0;34m(self)\u001b[0m\n\u001b[1;32m   2646\u001b[0m \u001b[38;5;28;01mdef\u001b[39;00m \u001b[38;5;21m_update_data\u001b[39m(\u001b[38;5;28mself\u001b[39m):\n\u001b[0;32m-> 2647\u001b[0m     \u001b[38;5;28;43mself\u001b[39;49m\u001b[38;5;241;43m.\u001b[39;49m\u001b[43mscreen\u001b[49m\u001b[38;5;241;43m.\u001b[39;49m\u001b[43m_incrementudc\u001b[49m\u001b[43m(\u001b[49m\u001b[43m)\u001b[49m\n\u001b[1;32m   2648\u001b[0m     \u001b[38;5;28;01mif\u001b[39;00m \u001b[38;5;28mself\u001b[39m\u001b[38;5;241m.\u001b[39mscreen\u001b[38;5;241m.\u001b[39m_updatecounter \u001b[38;5;241m!=\u001b[39m \u001b[38;5;241m0\u001b[39m:\n\u001b[1;32m   2649\u001b[0m         \u001b[38;5;28;01mreturn\u001b[39;00m\n",
      "File \u001b[0;32m/usr/lib/python3.8/turtle.py:1293\u001b[0m, in \u001b[0;36mTurtleScreen._incrementudc\u001b[0;34m(self)\u001b[0m\n\u001b[1;32m   1291\u001b[0m \u001b[38;5;28;01mif\u001b[39;00m \u001b[38;5;129;01mnot\u001b[39;00m TurtleScreen\u001b[38;5;241m.\u001b[39m_RUNNING:\n\u001b[1;32m   1292\u001b[0m     TurtleScreen\u001b[38;5;241m.\u001b[39m_RUNNING \u001b[38;5;241m=\u001b[39m \u001b[38;5;28;01mTrue\u001b[39;00m\n\u001b[0;32m-> 1293\u001b[0m     \u001b[38;5;28;01mraise\u001b[39;00m Terminator\n\u001b[1;32m   1294\u001b[0m \u001b[38;5;28;01mif\u001b[39;00m \u001b[38;5;28mself\u001b[39m\u001b[38;5;241m.\u001b[39m_tracing \u001b[38;5;241m>\u001b[39m \u001b[38;5;241m0\u001b[39m:\n\u001b[1;32m   1295\u001b[0m     \u001b[38;5;28mself\u001b[39m\u001b[38;5;241m.\u001b[39m_updatecounter \u001b[38;5;241m+\u001b[39m\u001b[38;5;241m=\u001b[39m \u001b[38;5;241m1\u001b[39m\n",
      "\u001b[0;31mTerminator\u001b[0m: "
     ]
    }
   ],
   "source": [
    "import turtle\n",
    "\n",
    "# Create a screen and a turtle\n",
    "screen = turtle.Screen()\n",
    "happy = turtle.Turtle()\n",
    "\n",
    "# Set the background color (optional)\n",
    "screen.bgcolor(\"lightblue\")\n",
    "\n",
    "# Set the turtle speed (optional, faster is better for this)\n",
    "happy.speed(10)\n",
    "\n",
    "# Hide the turtle (optional)\n",
    "happy.hideturtle()\n",
    "\n",
    "# Set pen color to red\n",
    "happy.pencolor(\"red\")\n",
    "\n",
    "# Write Happy\n",
    "happy.penup()\n",
    "happy.goto(-100, 0)\n",
    "happy.pendown()\n",
    "happy.write(\"Happy\", align=\"center\", font=(\"Arial\", 40, \"normal\"))\n",
    "\n",
    "# Move the turtle to write Birthday\n",
    "happy.penup()\n",
    "happy.goto(100, 0)\n",
    "happy.pendown()\n",
    "\n",
    "# Write Birthday\n",
    "happy.write(\"Birthday\", align=\"center\", font=(\"Arial\", 40, \"normal\"))\n",
    "\n",
    "# Keep the window open\n",
    "turtle.done()\n"
   ]
  },
  {
   "cell_type": "code",
   "execution_count": null,
   "id": "8bf279bb-1b4b-41c8-9624-cc36bea20414",
   "metadata": {},
   "outputs": [],
   "source": []
  }
 ],
 "metadata": {
  "kernelspec": {
   "display_name": "Python 3 (ipykernel)",
   "language": "python",
   "name": "python3"
  },
  "language_info": {
   "codemirror_mode": {
    "name": "ipython",
    "version": 3
   },
   "file_extension": ".py",
   "mimetype": "text/x-python",
   "name": "python",
   "nbconvert_exporter": "python",
   "pygments_lexer": "ipython3",
   "version": "3.8.10"
  }
 },
 "nbformat": 4,
 "nbformat_minor": 5
}
