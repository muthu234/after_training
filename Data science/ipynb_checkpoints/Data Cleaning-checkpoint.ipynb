{
 "cells": [
  {
   "cell_type": "code",
   "execution_count": 29,
   "id": "f6432e7a-9797-4f85-bfec-278503f8cc0a",
   "metadata": {},
   "outputs": [
    {
     "name": "stderr",
     "output_type": "stream",
     "text": [
      "/tmp/ipykernel_57731/2864073988.py:6: DtypeWarning: Columns (22,32) have mixed types. Specify dtype option on import or set low_memory=False.\n",
      "  sf_permits = pd.read_csv(\"Building_Permits.csv\")\n"
     ]
    },
    {
     "name": "stdout",
     "output_type": "stream",
     "text": [
      "None\n"
     ]
    }
   ],
   "source": [
    "# modules we'll use\n",
    "import pandas as pd\n",
    "import numpy as np\n",
    "\n",
    "# read in all our data\n",
    "sf_permits = pd.read_csv(\"Building_Permits.csv\")\n",
    "\n",
    "# set seed for reproducibility\n",
    "app=np.random.seed(1) \n",
    "print(app)"
   ]
  },
  {
   "cell_type": "code",
   "execution_count": 5,
   "id": "873e7c70-df34-4347-af58-10db880e7531",
   "metadata": {},
   "outputs": [
    {
     "data": {
      "text/html": [
       "<div>\n",
       "<style scoped>\n",
       "    .dataframe tbody tr th:only-of-type {\n",
       "        vertical-align: middle;\n",
       "    }\n",
       "\n",
       "    .dataframe tbody tr th {\n",
       "        vertical-align: top;\n",
       "    }\n",
       "\n",
       "    .dataframe thead th {\n",
       "        text-align: right;\n",
       "    }\n",
       "</style>\n",
       "<table border=\"1\" class=\"dataframe\">\n",
       "  <thead>\n",
       "    <tr style=\"text-align: right;\">\n",
       "      <th></th>\n",
       "      <th>Permit Number</th>\n",
       "      <th>Permit Type</th>\n",
       "      <th>Permit Type Definition</th>\n",
       "      <th>Permit Creation Date</th>\n",
       "      <th>Block</th>\n",
       "      <th>Lot</th>\n",
       "      <th>Street Number</th>\n",
       "      <th>Street Number Suffix</th>\n",
       "      <th>Street Name</th>\n",
       "      <th>Street Suffix</th>\n",
       "      <th>...</th>\n",
       "      <th>Existing Construction Type</th>\n",
       "      <th>Existing Construction Type Description</th>\n",
       "      <th>Proposed Construction Type</th>\n",
       "      <th>Proposed Construction Type Description</th>\n",
       "      <th>Site Permit</th>\n",
       "      <th>Supervisor District</th>\n",
       "      <th>Neighborhoods - Analysis Boundaries</th>\n",
       "      <th>Zipcode</th>\n",
       "      <th>Location</th>\n",
       "      <th>Record ID</th>\n",
       "    </tr>\n",
       "  </thead>\n",
       "  <tbody>\n",
       "    <tr>\n",
       "      <th>0</th>\n",
       "      <td>201505065519</td>\n",
       "      <td>4</td>\n",
       "      <td>sign - erect</td>\n",
       "      <td>05/06/2015</td>\n",
       "      <td>0326</td>\n",
       "      <td>023</td>\n",
       "      <td>140</td>\n",
       "      <td>NaN</td>\n",
       "      <td>Ellis</td>\n",
       "      <td>St</td>\n",
       "      <td>...</td>\n",
       "      <td>3.0</td>\n",
       "      <td>constr type 3</td>\n",
       "      <td>NaN</td>\n",
       "      <td>NaN</td>\n",
       "      <td>NaN</td>\n",
       "      <td>3.0</td>\n",
       "      <td>Tenderloin</td>\n",
       "      <td>94102.0</td>\n",
       "      <td>(37.785719256680785, -122.40852313194863)</td>\n",
       "      <td>1380611233945</td>\n",
       "    </tr>\n",
       "    <tr>\n",
       "      <th>1</th>\n",
       "      <td>201604195146</td>\n",
       "      <td>4</td>\n",
       "      <td>sign - erect</td>\n",
       "      <td>04/19/2016</td>\n",
       "      <td>0306</td>\n",
       "      <td>007</td>\n",
       "      <td>440</td>\n",
       "      <td>NaN</td>\n",
       "      <td>Geary</td>\n",
       "      <td>St</td>\n",
       "      <td>...</td>\n",
       "      <td>3.0</td>\n",
       "      <td>constr type 3</td>\n",
       "      <td>NaN</td>\n",
       "      <td>NaN</td>\n",
       "      <td>NaN</td>\n",
       "      <td>3.0</td>\n",
       "      <td>Tenderloin</td>\n",
       "      <td>94102.0</td>\n",
       "      <td>(37.78733980600732, -122.41063199757738)</td>\n",
       "      <td>1420164406718</td>\n",
       "    </tr>\n",
       "    <tr>\n",
       "      <th>2</th>\n",
       "      <td>201605278609</td>\n",
       "      <td>3</td>\n",
       "      <td>additions alterations or repairs</td>\n",
       "      <td>05/27/2016</td>\n",
       "      <td>0595</td>\n",
       "      <td>203</td>\n",
       "      <td>1647</td>\n",
       "      <td>NaN</td>\n",
       "      <td>Pacific</td>\n",
       "      <td>Av</td>\n",
       "      <td>...</td>\n",
       "      <td>1.0</td>\n",
       "      <td>constr type 1</td>\n",
       "      <td>1.0</td>\n",
       "      <td>constr type 1</td>\n",
       "      <td>NaN</td>\n",
       "      <td>3.0</td>\n",
       "      <td>Russian Hill</td>\n",
       "      <td>94109.0</td>\n",
       "      <td>(37.7946573324287, -122.42232562979227)</td>\n",
       "      <td>1424856504716</td>\n",
       "    </tr>\n",
       "    <tr>\n",
       "      <th>3</th>\n",
       "      <td>201611072166</td>\n",
       "      <td>8</td>\n",
       "      <td>otc alterations permit</td>\n",
       "      <td>11/07/2016</td>\n",
       "      <td>0156</td>\n",
       "      <td>011</td>\n",
       "      <td>1230</td>\n",
       "      <td>NaN</td>\n",
       "      <td>Pacific</td>\n",
       "      <td>Av</td>\n",
       "      <td>...</td>\n",
       "      <td>5.0</td>\n",
       "      <td>wood frame (5)</td>\n",
       "      <td>5.0</td>\n",
       "      <td>wood frame (5)</td>\n",
       "      <td>NaN</td>\n",
       "      <td>3.0</td>\n",
       "      <td>Nob Hill</td>\n",
       "      <td>94109.0</td>\n",
       "      <td>(37.79595867909168, -122.41557405519474)</td>\n",
       "      <td>1443574295566</td>\n",
       "    </tr>\n",
       "    <tr>\n",
       "      <th>4</th>\n",
       "      <td>201611283529</td>\n",
       "      <td>6</td>\n",
       "      <td>demolitions</td>\n",
       "      <td>11/28/2016</td>\n",
       "      <td>0342</td>\n",
       "      <td>001</td>\n",
       "      <td>950</td>\n",
       "      <td>NaN</td>\n",
       "      <td>Market</td>\n",
       "      <td>St</td>\n",
       "      <td>...</td>\n",
       "      <td>3.0</td>\n",
       "      <td>constr type 3</td>\n",
       "      <td>NaN</td>\n",
       "      <td>NaN</td>\n",
       "      <td>NaN</td>\n",
       "      <td>6.0</td>\n",
       "      <td>Tenderloin</td>\n",
       "      <td>94102.0</td>\n",
       "      <td>(37.78315261897309, -122.40950883997789)</td>\n",
       "      <td>144548169992</td>\n",
       "    </tr>\n",
       "  </tbody>\n",
       "</table>\n",
       "<p>5 rows × 43 columns</p>\n",
       "</div>"
      ],
      "text/plain": [
       "  Permit Number  Permit Type            Permit Type Definition  \\\n",
       "0  201505065519            4                      sign - erect   \n",
       "1  201604195146            4                      sign - erect   \n",
       "2  201605278609            3  additions alterations or repairs   \n",
       "3  201611072166            8            otc alterations permit   \n",
       "4  201611283529            6                       demolitions   \n",
       "\n",
       "  Permit Creation Date Block  Lot  Street Number Street Number Suffix  \\\n",
       "0           05/06/2015  0326  023            140                  NaN   \n",
       "1           04/19/2016  0306  007            440                  NaN   \n",
       "2           05/27/2016  0595  203           1647                  NaN   \n",
       "3           11/07/2016  0156  011           1230                  NaN   \n",
       "4           11/28/2016  0342  001            950                  NaN   \n",
       "\n",
       "  Street Name Street Suffix  ...  Existing Construction Type  \\\n",
       "0       Ellis            St  ...                         3.0   \n",
       "1       Geary            St  ...                         3.0   \n",
       "2     Pacific            Av  ...                         1.0   \n",
       "3     Pacific            Av  ...                         5.0   \n",
       "4      Market            St  ...                         3.0   \n",
       "\n",
       "  Existing Construction Type Description Proposed Construction Type  \\\n",
       "0                          constr type 3                        NaN   \n",
       "1                          constr type 3                        NaN   \n",
       "2                          constr type 1                        1.0   \n",
       "3                         wood frame (5)                        5.0   \n",
       "4                          constr type 3                        NaN   \n",
       "\n",
       "  Proposed Construction Type Description Site Permit Supervisor District  \\\n",
       "0                                    NaN         NaN                 3.0   \n",
       "1                                    NaN         NaN                 3.0   \n",
       "2                          constr type 1         NaN                 3.0   \n",
       "3                         wood frame (5)         NaN                 3.0   \n",
       "4                                    NaN         NaN                 6.0   \n",
       "\n",
       "  Neighborhoods - Analysis Boundaries  Zipcode  \\\n",
       "0                          Tenderloin  94102.0   \n",
       "1                          Tenderloin  94102.0   \n",
       "2                        Russian Hill  94109.0   \n",
       "3                            Nob Hill  94109.0   \n",
       "4                          Tenderloin  94102.0   \n",
       "\n",
       "                                    Location      Record ID  \n",
       "0  (37.785719256680785, -122.40852313194863)  1380611233945  \n",
       "1   (37.78733980600732, -122.41063199757738)  1420164406718  \n",
       "2    (37.7946573324287, -122.42232562979227)  1424856504716  \n",
       "3   (37.79595867909168, -122.41557405519474)  1443574295566  \n",
       "4   (37.78315261897309, -122.40950883997789)   144548169992  \n",
       "\n",
       "[5 rows x 43 columns]"
      ]
     },
     "execution_count": 5,
     "metadata": {},
     "output_type": "execute_result"
    }
   ],
   "source": [
    "sf_permits.head()"
   ]
  },
  {
   "cell_type": "code",
   "execution_count": 11,
   "id": "e7a3321a-fa8f-4ded-87c6-0f966177d43b",
   "metadata": {},
   "outputs": [
    {
     "name": "stdout",
     "output_type": "stream",
     "text": [
      "Permit Number                                  0\n",
      "Permit Type                                    0\n",
      "Permit Type Definition                         0\n",
      "Permit Creation Date                           0\n",
      "Block                                          0\n",
      "Lot                                            0\n",
      "Street Number                                  0\n",
      "Street Number Suffix                      196684\n",
      "Street Name                                    0\n",
      "Street Suffix                               2768\n",
      "Unit                                      169421\n",
      "Unit Suffix                               196939\n",
      "Description                                  290\n",
      "Current Status                                 0\n",
      "Current Status Date                            0\n",
      "Filed Date                                     0\n",
      "Issued Date                                14940\n",
      "Completed Date                            101709\n",
      "First Construction Document Date           14946\n",
      "Structural Notification                   191978\n",
      "Number of Existing Stories                 42784\n",
      "Number of Proposed Stories                 42868\n",
      "Voluntary Soft-Story Retrofit             198865\n",
      "Fire Only Permit                          180073\n",
      "Permit Expiration Date                     51880\n",
      "Estimated Cost                             38066\n",
      "Revised Cost                                6066\n",
      "Existing Use                               41114\n",
      "Existing Units                             51538\n",
      "Proposed Use                               42439\n",
      "Proposed Units                             50911\n",
      "Plansets                                   37309\n",
      "TIDF Compliance                           198898\n",
      "Existing Construction Type                 43366\n",
      "Existing Construction Type Description     43366\n",
      "Proposed Construction Type                 43162\n",
      "Proposed Construction Type Description     43162\n",
      "Site Permit                               193541\n",
      "Supervisor District                         1717\n",
      "Neighborhoods - Analysis Boundaries         1725\n",
      "Zipcode                                     1716\n",
      "Location                                    1700\n",
      "Record ID                                      0\n",
      "dtype: int64\n"
     ]
    }
   ],
   "source": [
    "missing_value_count=sf_permits.isnull().sum()\n",
    "print(missing_value_count)"
   ]
  },
  {
   "cell_type": "code",
   "execution_count": 14,
   "id": "37803a6f-999c-4460-8cbd-64df41a31b80",
   "metadata": {},
   "outputs": [
    {
     "name": "stdout",
     "output_type": "stream",
     "text": [
      "26.26002315058403\n",
      "8552700\n"
     ]
    }
   ],
   "source": [
    "total_cells = np.product(sf_permits.shape)\n",
    "total_missing = missing_value_count.sum()\n",
    "percent_missing = (total_missing/total_cells) * 100\n",
    "print(percent_missing)\n",
    "print(total_cells)"
   ]
  },
  {
   "cell_type": "code",
   "execution_count": 26,
   "id": "36317857-08be-49ac-ba4d-9d51b6cf389a",
   "metadata": {},
   "outputs": [
    {
     "name": "stdout",
     "output_type": "stream",
     "text": [
      "       Permit Number  Permit Type            Permit Type Definition  \\\n",
      "0       201505065519            4                      sign - erect   \n",
      "1       201604195146            4                      sign - erect   \n",
      "2       201605278609            3  additions alterations or repairs   \n",
      "3       201611072166            8            otc alterations permit   \n",
      "4       201611283529            6                       demolitions   \n",
      "...              ...          ...                               ...   \n",
      "198895       M862628            8            otc alterations permit   \n",
      "198896  201712055595            8            otc alterations permit   \n",
      "198897       M863507            8            otc alterations permit   \n",
      "198898       M863747            8            otc alterations permit   \n",
      "198899       M864287            8            otc alterations permit   \n",
      "\n",
      "       Permit Creation Date Block   Lot  Street Number Street Name  \\\n",
      "0                05/06/2015  0326   023            140       Ellis   \n",
      "1                04/19/2016  0306   007            440       Geary   \n",
      "2                05/27/2016  0595   203           1647     Pacific   \n",
      "3                11/07/2016  0156   011           1230     Pacific   \n",
      "4                11/28/2016  0342   001            950      Market   \n",
      "...                     ...   ...   ...            ...         ...   \n",
      "198895           12/05/2017  0113  017A           1228  Montgomery   \n",
      "198896           12/05/2017  0271   014            580        Bush   \n",
      "198897           12/06/2017  4318   019           1568     Indiana   \n",
      "198898           12/06/2017  0298   029            795      Sutter   \n",
      "198899           12/07/2017  0160   006            838     Pacific   \n",
      "\n",
      "       Current Status Current Status Date  Filed Date      Record ID  \n",
      "0             expired          12/21/2017  05/06/2015  1380611233945  \n",
      "1              issued          08/03/2017  04/19/2016  1420164406718  \n",
      "2           withdrawn          09/26/2017  05/27/2016  1424856504716  \n",
      "3            complete          07/24/2017  11/07/2016  1443574295566  \n",
      "4              issued          12/01/2017  11/28/2016   144548169992  \n",
      "...               ...                 ...         ...            ...  \n",
      "198895         issued          12/05/2017  12/05/2017  1489337276729  \n",
      "198896         issued          12/06/2017  12/05/2017  1489462354993  \n",
      "198897         issued          12/06/2017  12/06/2017  1489539379952  \n",
      "198898         issued          12/06/2017  12/06/2017  1489608233656  \n",
      "198899         issued          12/07/2017  12/07/2017  1489796283803  \n",
      "\n",
      "[198900 rows x 12 columns]\n"
     ]
    }
   ],
   "source": [
    "sf_permits.dropna(axis=1)\n",
    "column_with_dropna= sf_permits.dropna(axis=1)\n",
    "print(column_with_dropna)"
   ]
  },
  {
   "cell_type": "code",
   "execution_count": 31,
   "id": "f18055e6-c79c-4992-b565-eb838179eccc",
   "metadata": {},
   "outputs": [
    {
     "data": {
      "text/plain": [
       "43"
      ]
     },
     "execution_count": 31,
     "metadata": {},
     "output_type": "execute_result"
    }
   ],
   "source": [
    "sf_permits.shape[1]"
   ]
  },
  {
   "cell_type": "code",
   "execution_count": 32,
   "id": "7e17a0b4-44ab-4624-a444-96acff2f0f7e",
   "metadata": {},
   "outputs": [
    {
     "data": {
      "text/plain": [
       "12"
      ]
     },
     "execution_count": 32,
     "metadata": {},
     "output_type": "execute_result"
    }
   ],
   "source": [
    "column_with_dropna.shape[1]"
   ]
  },
  {
   "cell_type": "code",
   "execution_count": null,
   "id": "17e00908-2813-4191-a006-4a56b24f5dde",
   "metadata": {},
   "outputs": [],
   "source": [
    "subset=sf_permit"
   ]
  }
 ],
 "metadata": {
  "kernelspec": {
   "display_name": "Python 3 (ipykernel)",
   "language": "python",
   "name": "python3"
  },
  "language_info": {
   "codemirror_mode": {
    "name": "ipython",
    "version": 3
   },
   "file_extension": ".py",
   "mimetype": "text/x-python",
   "name": "python",
   "nbconvert_exporter": "python",
   "pygments_lexer": "ipython3",
   "version": "3.8.10"
  }
 },
 "nbformat": 4,
 "nbformat_minor": 5
}
